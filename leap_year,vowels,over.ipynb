{
 "cells": [
  {
   "cell_type": "markdown",
   "id": "22320351-9e23-4951-8ed2-06d465f429f1",
   "metadata": {},
   "source": [
    "leap year"
   ]
  },
  {
   "cell_type": "code",
   "execution_count": null,
   "id": "fdd8892c-b372-477b-b331-16b434b13ed7",
   "metadata": {},
   "outputs": [],
   "source": [
    "from datetime import datetime\n",
    "\n",
    "# Function to check if a year is a leap year\n",
    "def is_leap_year(year):\n",
    "    return (year % 4 == 0 and year % 100 != 0) or (year % 400 == 0)\n",
    "\n",
    "# Get the current year\n",
    "current_year = datetime.now().year\n",
    "\n",
    "# Get the final year from the user\n",
    "final_year = int(input(\"Enter the final year: \"))\n",
    "\n",
    "if final_year < current_year:\n",
    "    print(\"The final year must be greater than or equal to the current year.\")\n",
    "else:\n",
    "    print(f\"Leap years from {current_year} to {final_year}:\")\n",
    "    for year in range(current_year, final_year + 1):\n",
    "        if is_leap_year(year):\n",
    "            print(year)\n",
    "\n"
   ]
  },
  {
   "cell_type": "markdown",
   "id": "297e2e86-cbb6-4d03-bba0-3e6c74218838",
   "metadata": {},
   "source": [
    "vowels"
   ]
  },
  {
   "cell_type": "code",
   "execution_count": null,
   "id": "92749cec-4223-47bd-80d9-95633bb03798",
   "metadata": {},
   "outputs": [],
   "source": [
    "word = input(\"Enter a word: \")\n",
    "vowels = []\n",
    "for char in word:\n",
    "    if char in \"aeiouAEIOU\":\n",
    "        vowels.append(char)\n",
    "     \n",
    "print(\"List of vowels:\", vowels)"
   ]
  },
  {
   "cell_type": "markdown",
   "id": "ecf9df61-dbb5-457e-9711-734abd5fad82",
   "metadata": {},
   "source": [
    "over"
   ]
  },
  {
   "cell_type": "code",
   "execution_count": null,
   "id": "5fa3a7b5-6e84-4ff1-b3b8-782faf8cc382",
   "metadata": {},
   "outputs": [],
   "source": [
    "\n",
    "user_input = input(\"Enter a list of integers, separated by spaces: \")\n",
    "\n",
    "string_list = user_input.split()\n",
    "\n",
    "modified_list = []\n",
    "\n",
    "for item in string_list:\n",
    "    num = int(item)\n",
    "    if num > 100:\n",
    "        modified_list.append('over')\n",
    "    else:\n",
    "        modified_list.append(num)\n",
    "\n",
    "print(\"Modified list:\", modified_list)"
   ]
  },
  {
   "cell_type": "code",
   "execution_count": null,
   "id": "e025bcc0-81f6-4bfe-bd9a-6036424891e3",
   "metadata": {},
   "outputs": [],
   "source": []
  },
  {
   "cell_type": "code",
   "execution_count": null,
   "id": "9ccd6972-40a7-4b37-9785-bf77ee87d45b",
   "metadata": {},
   "outputs": [],
   "source": []
  },
  {
   "cell_type": "code",
   "execution_count": null,
   "id": "abb537ef-2bc1-473c-8c5d-acfb088fd78a",
   "metadata": {},
   "outputs": [],
   "source": []
  },
  {
   "cell_type": "code",
   "execution_count": null,
   "id": "41e777d8-a08c-4b53-b785-cc02853c98f9",
   "metadata": {},
   "outputs": [],
   "source": []
  }
 ],
 "metadata": {
  "kernelspec": {
   "display_name": "Python 3 (ipykernel)",
   "language": "python",
   "name": "python3"
  },
  "language_info": {
   "codemirror_mode": {
    "name": "ipython",
    "version": 3
   },
   "file_extension": ".py",
   "mimetype": "text/x-python",
   "name": "python",
   "nbconvert_exporter": "python",
   "pygments_lexer": "ipython3",
   "version": "3.10.14"
  }
 },
 "nbformat": 4,
 "nbformat_minor": 5
}
