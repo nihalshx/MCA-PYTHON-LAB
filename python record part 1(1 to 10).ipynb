{
 "cells": [
  {
   "cell_type": "markdown",
   "id": "939ed4b3-d1b5-46ad-af23-edf51c7463d4",
   "metadata": {},
   "source": [
    "1.Write a Python program to display future leap years from current year to a final year entered by user. "
   ]
  },
  {
   "cell_type": "markdown",
   "id": "74bc3e53-6156-4a03-a348-f43ebf247cf5",
   "metadata": {},
   "source": [
    "Program:-"
   ]
  },
  {
   "cell_type": "code",
   "execution_count": 1,
   "id": "61b6e287-a30a-41dc-b060-f7e0524b62e2",
   "metadata": {
    "scrolled": true
   },
   "outputs": [
    {
     "name": "stdin",
     "output_type": "stream",
     "text": [
      "Enter the final year:  2033\n"
     ]
    },
    {
     "name": "stdout",
     "output_type": "stream",
     "text": [
      "Leap years from 2024 to 2033:\n",
      "2024\n",
      "2028\n",
      "2032\n"
     ]
    }
   ],
   "source": [
    "from datetime import datetime  # Importing the datetime module to get the current year\n",
    "\n",
    "# Step 1: Get the current year\n",
    "current_year = datetime.now().year  # Retrieve the current year dynamically using the datetime module\n",
    "\n",
    "# Step 2: Ask the user for the final year\n",
    "final_year = int(input(\"Enter the final year: \"))  # Prompt the user to input the final year as an integer\n",
    "\n",
    "# Step 3: Print a message to indicate the range of years being checked\n",
    "print(f\"Leap years from {current_year} to {final_year}:\")\n",
    "\n",
    "# Step 4: Loop through each year in the range from the current year to the final year (inclusive)\n",
    "for year in range(current_year, final_year + 1):\n",
    "    \n",
    "    # Step 5: Check if the year is a leap year\n",
    "    if year % 4 == 0:  # Condition 1: The year must be divisible by 4\n",
    "        if year % 100 != 0:  # Condition 2: The year must NOT be divisible by 100\n",
    "            # If both conditions are met, it's a leap year\n",
    "            print(year)  # Print the leap year\n",
    "        elif year % 400 == 0:  # Condition 3: OR, if the year is divisible by 400, it's also a leap year\n",
    "            print(year)  # Print the leap year\n"
   ]
  },
  {
   "cell_type": "markdown",
   "id": "00c641f1-48ad-4fcc-8290-1d5ceaa38641",
   "metadata": {},
   "source": [
    "------------------------------------------------------------------------------------------------------------------------------------------------------"
   ]
  },
  {
   "cell_type": "markdown",
   "id": "e8378c4d-1953-46c4-ab32-a289d75edb9f",
   "metadata": {},
   "source": [
    "2.Write a Python program to generate positive list of numbers from a given list of integers "
   ]
  },
  {
   "cell_type": "markdown",
   "id": "5ecb348d-12cc-4324-b966-334b4925585e",
   "metadata": {},
   "source": [
    "Program:-"
   ]
  },
  {
   "cell_type": "code",
   "execution_count": 3,
   "id": "34a7a128-c13f-4132-8c61-c527ef34facc",
   "metadata": {},
   "outputs": [
    {
     "name": "stdout",
     "output_type": "stream",
     "text": [
      "Original list: [-10, 15, -20, 30, -5, 40, 0, 25]\n",
      "Positive numbers: [15, 30, 40, 25]\n"
     ]
    }
   ],
   "source": [
    "\n",
    "# Step 1: Create a sample list of integers\n",
    "sample_list = [-10, 15, -20, 30, -5, 40, 0, 25]\n",
    "\n",
    "# Step 2: Initialize an empty list to store positive numbers\n",
    "positive_numbers = []\n",
    "\n",
    "# Step 3: Use a for loop to iterate through each number in the sample list\n",
    "for num in sample_list:\n",
    "    # Step 4: Check if the current number is positive\n",
    "    if num > 0:\n",
    "        # Step 5: If positive, append it to the positive_numbers list\n",
    "        positive_numbers.append(num)\n",
    "\n",
    "# Step 6: Print the original list and the filtered list\n",
    "print(\"Original list:\", sample_list)\n",
    "print(\"Positive numbers:\", positive_numbers)\n"
   ]
  },
  {
   "cell_type": "markdown",
   "id": "3c8976f3-b448-4f56-92f0-810c0012b1bc",
   "metadata": {},
   "source": [
    "------------------------------------------------------------------------------------------------------------------------------------------------------"
   ]
  },
  {
   "cell_type": "markdown",
   "id": "6481ad4a-f019-4f79-b854-00a1301ba64e",
   "metadata": {},
   "source": [
    "3.Write a Python program to form a list of vowels selected from a given word."
   ]
  },
  {
   "cell_type": "markdown",
   "id": "ce5da6d0-22ce-4d18-8d40-71ee6fb3eb13",
   "metadata": {},
   "source": [
    "Program:-"
   ]
  },
  {
   "cell_type": "code",
   "execution_count": 1,
   "id": "f639df98-d9d0-47c6-945a-6d80a18b9aee",
   "metadata": {},
   "outputs": [
    {
     "name": "stdin",
     "output_type": "stream",
     "text": [
      "Enter a word:  programming\n"
     ]
    },
    {
     "name": "stdout",
     "output_type": "stream",
     "text": [
      "List of vowels: ['o', 'a', 'i']\n"
     ]
    }
   ],
   "source": [
    "# Step 1: Ask the user to input a word\n",
    "word = input(\"Enter a word: \")\n",
    "\n",
    "# Step 2: Initialize an empty list to store vowels found in the word\n",
    "vowels = []\n",
    "\n",
    "# Step 3: Loop through each character in the input word\n",
    "for char in word:\n",
    "    # Step 4: Check if the current character is a vowel (either lowercase or uppercase)\n",
    "    if char in \"aeiouAEIOU\":  # The string \"aeiouAEIOU\" contains all vowels\n",
    "        # Step 5: If the character is a vowel, add it to the vowels list\n",
    "        vowels.append(char)\n",
    "\n",
    "# Step 6: After checking all characters, print the list of vowels found\n",
    "print(\"List of vowels:\", vowels)\n"
   ]
  },
  {
   "cell_type": "markdown",
   "id": "beb94cba-f3f3-4d23-abc0-39be56b44dda",
   "metadata": {},
   "source": [
    "------------------------------------------------------------------------------------------------------------------------------------------------------"
   ]
  },
  {
   "cell_type": "markdown",
   "id": "0257a3d5-494a-43f8-b5d3-c6ac8a618f12",
   "metadata": {},
   "source": [
    "4.Read a sentence from the user and do the following:\n",
    "   a) Count the number of words.\n",
    "   b) Search for a particular word."
   ]
  },
  {
   "cell_type": "markdown",
   "id": "d476f209-a4aa-4d38-8dce-b4533cade823",
   "metadata": {},
   "source": [
    "Program:-"
   ]
  },
  {
   "cell_type": "code",
   "execution_count": 4,
   "id": "93c464ac-cdc1-4ffa-8051-dabd5e39f8f4",
   "metadata": {},
   "outputs": [
    {
     "name": "stdin",
     "output_type": "stream",
     "text": [
      "Enter a sentence:  nihal can run\n",
      "Enter the word to search for:  run\n"
     ]
    },
    {
     "name": "stdout",
     "output_type": "stream",
     "text": [
      "Number of words: 3\n",
      "The word 'run' was found in the sentence.\n"
     ]
    }
   ],
   "source": [
    "# Step 1: Prompt the user to input a sentence\n",
    "# This sentence will be analyzed for the word count and searched for a specific word\n",
    "sentence = input(\"Enter a sentence: \")\n",
    "\n",
    "# Step 2: Prompt the user to input the word they want to search for in the sentence\n",
    "# This word will be checked to see if it exists in the given sentence\n",
    "word_to_search = input(\"Enter the word to search for: \")\n",
    "\n",
    "# Step 3: Split the sentence into individual words\n",
    "# The split() function breaks the sentence into a list of words based on spaces\n",
    "words = sentence.split()\n",
    "\n",
    "# Step 4: Count the number of words in the sentence\n",
    "# The len() function calculates the total number of words in the list\n",
    "word_count = len(words)\n",
    "\n",
    "# Step 5: Check if the word to search for is present in the list of words\n",
    "# The 'in' keyword is used to check if the word_to_search exists in the words list\n",
    "word_found = word_to_search in words\n",
    "\n",
    "# Step 6: Print the total number of words in the sentence\n",
    "# This provides the user with the count of words in their input sentence\n",
    "print(f\"Number of words: {word_count}\")\n",
    "\n",
    "# Step 7: Print whether the word to search for was found or not\n",
    "# If the word is found, a message confirming its presence is displayed\n",
    "# If not, a message stating its absence is displayed\n",
    "if word_found:\n",
    "    print(f\"The word '{word_to_search}' was found in the sentence.\")\n",
    "else:\n",
    "    print(f\"The word '{word_to_search}' was not found in the sentence.\")\n"
   ]
  },
  {
   "cell_type": "markdown",
   "id": "63ee7aa2-ee8f-4d09-b2ab-e87480552da2",
   "metadata": {},
   "source": [
    "------------------------------------------------------------------------------------------------------------------------------------------------------"
   ]
  },
  {
   "cell_type": "markdown",
   "id": "efe1fe58-aebb-4fe4-8fb1-86f0abafd9e4",
   "metadata": {},
   "source": [
    "5.Write a Python program to prompt the user for a list of integers. For all values greater than 100, store    \n",
    "‘over’ instead."
   ]
  },
  {
   "cell_type": "markdown",
   "id": "39947162-c01b-4493-97fc-f30d764b1ee5",
   "metadata": {},
   "source": [
    "Program:-"
   ]
  },
  {
   "cell_type": "code",
   "execution_count": 8,
   "id": "5cd16e40-0d58-4b16-bd39-378e5fdf59b6",
   "metadata": {
    "scrolled": true
   },
   "outputs": [
    {
     "name": "stdin",
     "output_type": "stream",
     "text": [
      "Enter a list of integers, separated by spaces:  1 22 55 188 100 3 \n"
     ]
    },
    {
     "name": "stdout",
     "output_type": "stream",
     "text": [
      "Modified list: [1, 22, 55, 'over', 100, 3]\n"
     ]
    }
   ],
   "source": [
    "# Step 1: Prompt the user for input\n",
    "# The user is asked to enter a list of integers separated by spaces.\n",
    "user_input = input(\"Enter a list of integers, separated by spaces: \")\n",
    "\n",
    "# Step 2: Split the input string into individual components\n",
    "# The input string is split into a list of strings, each representing a number.\n",
    "string_list = user_input.split()\n",
    "\n",
    "# Step 3: Initialize an empty list to store the modified values\n",
    "# This list will hold the final result after processing each number.\n",
    "modified_list = []\n",
    "\n",
    "# Step 4: Iterate through each item in the list of strings\n",
    "for item in string_list:\n",
    "    # Convert the string to an integer\n",
    "    # We need to work with integers to check their values.\n",
    "    num = int(item)\n",
    "    \n",
    "    # Step 5: Check if the number is greater than 100\n",
    "    if num > 100:\n",
    "        # If the number is greater than 100, replace it with the string 'over'\n",
    "        modified_list.append('over')\n",
    "    else:\n",
    "        # If the number is 100 or less, keep it as is and add it to the modified list\n",
    "        modified_list.append(num)\n",
    "\n",
    "# Step 6: Print the modified list\n",
    "# After processing all numbers, display the final result.\n",
    "print(\"Modified list:\", modified_list)\n"
   ]
  },
  {
   "cell_type": "markdown",
   "id": "34ea3448-30d9-4c36-9013-adc95f915260",
   "metadata": {},
   "source": [
    "------------------------------------------------------------------------------------------------------------------------------------------------------"
   ]
  },
  {
   "cell_type": "markdown",
   "id": "3d587892-7ef1-42c5-81d6-a6876fecb29e",
   "metadata": {},
   "source": [
    "6.Write a Python program to store a list of first names. Count the occurrences of ‘a’ within the list."
   ]
  },
  {
   "cell_type": "markdown",
   "id": "11afca20-f745-482e-b77e-14fefd545027",
   "metadata": {},
   "source": [
    "Program:-"
   ]
  },
  {
   "cell_type": "code",
   "execution_count": 14,
   "id": "85dfe15b-cb96-4af4-b2be-c6b569ac3054",
   "metadata": {},
   "outputs": [
    {
     "name": "stdin",
     "output_type": "stream",
     "text": [
      "Enter a list of first names separated by spaces:  nihal hanna\n"
     ]
    },
    {
     "name": "stdout",
     "output_type": "stream",
     "text": [
      "The letter 'a' appears 3 times in the list of names.\n"
     ]
    }
   ],
   "source": [
    "# Step 1: Prompt the user to input a list of first names.\n",
    "# The input should be entered as a space-separated string of names.\n",
    "user_input = input(\"Enter a list of first names separated by spaces: \")\n",
    "\n",
    "# Step 2: Convert the input string into a list of names.\n",
    "# The split() method splits the string into a list where each name is a separate element.\n",
    "first_names = user_input.split()\n",
    "\n",
    "# Step 3: Initialize a counter variable to store the number of occurrences of the letter 'a'.\n",
    "# This will hold the total count of 'a' in all the names.\n",
    "count_a = 0\n",
    "\n",
    "# Step 4: Loop through each name in the list of first names.\n",
    "# We will examine each name one by one.\n",
    "for name in first_names:\n",
    "    # Step 5: Convert the name to lowercase to count 'a' in a case-insensitive manner.\n",
    "    # This ensures that both 'A' and 'a' are counted.\n",
    "    lower_name = name.lower()\n",
    "    \n",
    "    # Step 6: Use the count() method to count the occurrences of the letter 'a' in the lowercase name.\n",
    "    # The count() method returns the number of times 'a' appears in the string.\n",
    "    count_a += lower_name.count('a')\n",
    "\n",
    "# Step 7: Print the total count of 'a' after going through all the names.\n",
    "# This tells the user how many times the letter 'a' appeared in the list of names.\n",
    "print(f\"The letter 'a' appears {count_a} times in the list of names.\")\n"
   ]
  },
  {
   "cell_type": "markdown",
   "id": "16a685c7-4710-415f-ba0a-b2c4bb200f1f",
   "metadata": {},
   "source": [
    "------------------------------------------------------------------------------------------------------------------------------------------------------"
   ]
  },
  {
   "cell_type": "markdown",
   "id": "a19c0344-d599-403b-a5fc-8935464b47d1",
   "metadata": {},
   "source": [
    "7.Write a menu driven program to enter 2 lists of integers. Check \n",
    "(a) whether lists are of same length \n",
    "(b) whether lists sums to same value \n",
    "(c) whether any value occur in both"
   ]
  },
  {
   "cell_type": "markdown",
   "id": "eea71c64-302a-4166-b039-2468e9a78fd8",
   "metadata": {},
   "source": [
    "Program:-"
   ]
  },
  {
   "cell_type": "code",
   "execution_count": 9,
   "id": "3c702d67-bddb-4662-83b9-625143edc109",
   "metadata": {},
   "outputs": [
    {
     "name": "stdout",
     "output_type": "stream",
     "text": [
      "\n",
      "Menu:\n",
      "1. Enter two lists of numbers\n",
      "2. Check if the lists have the same length\n",
      "3. Check if the sums of the lists are the same\n",
      "4. Check if there are any common numbers in both lists\n",
      "5. Exit the program\n"
     ]
    },
    {
     "name": "stdin",
     "output_type": "stream",
     "text": [
      "Enter your choice (1-5):  1\n"
     ]
    },
    {
     "name": "stdout",
     "output_type": "stream",
     "text": [
      "Enter the first list of numbers:\n"
     ]
    },
    {
     "name": "stdin",
     "output_type": "stream",
     "text": [
      "Enter numbers separated by spaces:  1\n"
     ]
    },
    {
     "name": "stdout",
     "output_type": "stream",
     "text": [
      "Enter the second list of numbers:\n"
     ]
    },
    {
     "name": "stdin",
     "output_type": "stream",
     "text": [
      "Enter numbers separated by spaces:  1\n"
     ]
    },
    {
     "name": "stdout",
     "output_type": "stream",
     "text": [
      "\n",
      "Menu:\n",
      "1. Enter two lists of numbers\n",
      "2. Check if the lists have the same length\n",
      "3. Check if the sums of the lists are the same\n",
      "4. Check if there are any common numbers in both lists\n",
      "5. Exit the program\n"
     ]
    },
    {
     "name": "stdin",
     "output_type": "stream",
     "text": [
      "Enter your choice (1-5):  5\n"
     ]
    },
    {
     "name": "stdout",
     "output_type": "stream",
     "text": [
      "Exiting the program. Goodbye!\n"
     ]
    }
   ],
   "source": [
    "# Initialize two empty lists to store user input\n",
    "list1 = []  # First list of numbers\n",
    "list2 = []  # Second list of numbers\n",
    "\n",
    "# Start an infinite loop for the menu-driven program\n",
    "while True:\n",
    "    # Display the menu options to the user\n",
    "    print(\"\\nMenu:\")\n",
    "    print(\"1. Enter two lists of numbers\")  # Option to input two lists\n",
    "    print(\"2. Check if the lists have the same length\")  # Check length of the lists\n",
    "    print(\"3. Check if the sums of the lists are the same\")  # Compare the sum of elements in both lists\n",
    "    print(\"4. Check if there are any common numbers in both lists\")  # Find common elements between lists\n",
    "    print(\"5. Exit the program\")  # Exit the program\n",
    "    \n",
    "    # Prompt the user to select an option\n",
    "    choice = int(input(\"Enter your choice (1-5): \"))\n",
    "    \n",
    "    # Option 1: Input two lists of numbers\n",
    "    if choice == 1:\n",
    "        print(\"Enter the first list of numbers:\")  # Prompt for the first list\n",
    "        # Take input as a single string and split it into a list of strings\n",
    "        numbers1 = input(\"Enter numbers separated by spaces: \")\n",
    "        # Convert each string into an integer and store it in the first list\n",
    "        list1 = [int(num) for num in numbers1.split()]\n",
    "        \n",
    "        print(\"Enter the second list of numbers:\")  # Prompt for the second list\n",
    "        # Take input as a single string and split it into a list of strings\n",
    "        numbers2 = input(\"Enter numbers separated by spaces: \")\n",
    "        # Convert each string into an integer and store it in the second list\n",
    "        list2 = [int(num) for num in numbers2.split()]\n",
    "\n",
    "    # Option 2: Check if the lists have the same length\n",
    "    elif choice == 2:\n",
    "        # Compare the lengths of the two lists using len()\n",
    "        if len(list1) == len(list2):\n",
    "            print(\"The lists have the same length.\")  # If lengths are equal\n",
    "        else:\n",
    "            print(\"The lists do not have the same length.\")  # If lengths are not equal\n",
    "\n",
    "    # Option 3: Check if the sums of the lists are the same\n",
    "    elif choice == 3:\n",
    "        # Calculate the sum of each list using sum()\n",
    "        if sum(list1) == sum(list2):\n",
    "            print(\"The lists have the same sum.\")  # If sums are equal\n",
    "        else:\n",
    "            print(\"The lists do not have the same sum.\")  # If sums are not equal\n",
    "\n",
    "    # Option 4: Check if there are any common numbers in both lists\n",
    "    elif choice == 4:\n",
    "        # Convert the lists into sets and find the intersection\n",
    "        common_numbers = set(list1) & set(list2)\n",
    "        if common_numbers:  # If the intersection is not empty\n",
    "            print(\"Common numbers in both lists:\", common_numbers)  # Display the common numbers\n",
    "        else:\n",
    "            print(\"There are no common numbers in both lists.\")  # No common numbers found\n",
    "\n",
    "    # Option 5: Exit the program\n",
    "    elif choice == 5:\n",
    "        # Exit the loop and program\n",
    "        print(\"Exiting the program. Goodbye!\")\n",
    "        break\n",
    "\n",
    "    # If the user enters an invalid choice\n",
    "    else:\n",
    "        print(\"Invalid choice! Please enter a number between 1 and 5.\")  # Display an error message\n"
   ]
  },
  {
   "cell_type": "markdown",
   "id": "b696aa64-cabf-4120-a6b4-4cc7b16d0188",
   "metadata": {},
   "source": [
    "------------------------------------------------------------------------------------------------------------------------------------------------------"
   ]
  },
  {
   "cell_type": "markdown",
   "id": "24469681-6078-4cfe-b2cb-9671ae83a128",
   "metadata": {},
   "source": [
    "8.Write a Python program to get a string from an input string where all occurrences of first character   \n",
    "replaced with \"$\", except first character. [eg: onion -> oni$n]"
   ]
  },
  {
   "cell_type": "markdown",
   "id": "1bedd8c1-91c3-49b6-b2dc-2ac1758051e6",
   "metadata": {},
   "source": [
    "Program:-"
   ]
  },
  {
   "cell_type": "code",
   "execution_count": 10,
   "id": "7a639a6e-9d4b-46ad-9cf2-750ad8f01972",
   "metadata": {},
   "outputs": [
    {
     "name": "stdin",
     "output_type": "stream",
     "text": [
      "Enter a string:  nnihal\n"
     ]
    },
    {
     "name": "stdout",
     "output_type": "stream",
     "text": [
      "Modified string: n$ihal\n"
     ]
    }
   ],
   "source": [
    "# Prompt the user to enter a string\n",
    "input_string = input(\"Enter a string: \")\n",
    "\n",
    "# Step 1: Extract the first character of the input string.\n",
    "# This will be used to identify which character should be replaced in the rest of the string.\n",
    "first_char = input_string[0]\n",
    "\n",
    "# Step 2: Replace all occurrences of the first character in the rest of the string with '$'.\n",
    "# We use slicing to exclude the first character (`input_string[1:]`) and apply the replace() method.\n",
    "# The replace() method finds all occurrences of `first_char` in the remaining part of the string and replaces them with '$'.\n",
    "# This ensures that only the subsequent occurrences of the first character are replaced.\n",
    "modified_part = input_string[1:].replace(first_char, '$')\n",
    "\n",
    "# Step 3: Combine the first character (unchanged) with the modified part of the string.\n",
    "# The first character is concatenated with the modified string to form the final result.\n",
    "modified_string = first_char + modified_part\n",
    "\n",
    "# Step 4: Print the final modified string.\n",
    "# The output will show the string with the first character unchanged and all subsequent occurrences replaced by '$'.\n",
    "print(\"Modified string:\", modified_string)\n"
   ]
  },
  {
   "cell_type": "markdown",
   "id": "48bcce8a-4572-4a0c-bb4a-b53e51254d4f",
   "metadata": {},
   "source": [
    "------------------------------------------------------------------------------------------------------------------------------------------------------"
   ]
  },
  {
   "cell_type": "markdown",
   "id": "530fa4a3-5f27-4a8e-8365-4966f657c0f1",
   "metadata": {},
   "source": [
    "9.Create a function to read a number (minimum 4 digits) from the user and find the reverse of the \n",
    "number using loop in another function and display both number and reverse of the number."
   ]
  },
  {
   "cell_type": "markdown",
   "id": "2ad910b2-6fd0-49db-aad0-77ae52b33b78",
   "metadata": {},
   "source": [
    "Program:-"
   ]
  },
  {
   "cell_type": "code",
   "execution_count": 11,
   "id": "0a673b4b-c487-4242-bc02-1d050c769671",
   "metadata": {},
   "outputs": [
    {
     "name": "stdin",
     "output_type": "stream",
     "text": [
      "Enter a number (minimum 4 digits):  1234\n"
     ]
    },
    {
     "name": "stdout",
     "output_type": "stream",
     "text": [
      "Original Number: 1234\n",
      "Reversed Number: 4321\n"
     ]
    }
   ],
   "source": [
    "# Step 1: Ask the user to enter a number. Ensure the number has at least 4 digits.\n",
    "number = int(input(\"Enter a number (minimum 4 digits): \"))\n",
    "\n",
    "# Step 2: Check if the entered number is less than 1000 (less than 4 digits).\n",
    "# If it is, repeatedly prompt the user for a new input until it's a valid number.\n",
    "while number < 1000:\n",
    "    print(\"The number must have at least 4 digits. Please try again.\")\n",
    "    number = int(input(\"Enter a number (minimum 4 digits): \"))\n",
    "\n",
    "# Step 3: Store the original number to print later, as we will modify 'number' during the reversal.\n",
    "original_number = number\n",
    "\n",
    "# Step 4: Initialize a variable 'reversed_number' to 0.\n",
    "# This will be used to build the reversed number.\n",
    "reversed_number = 0\n",
    "\n",
    "# Step 5: Start a loop to reverse the digits of the number.\n",
    "# The loop will run as long as 'number' is greater than 0, meaning there are still digits left to process.\n",
    "while number > 0:\n",
    "    # Step 6: Extract the last digit of the current number using modulo operation (%).\n",
    "    digit = number % 10\n",
    "    \n",
    "    # Step 7: Add the extracted digit to the reversed number.\n",
    "    # We multiply 'reversed_number' by 10 to shift its digits one place to the left,\n",
    "    # then add the new digit at the units place.\n",
    "    reversed_number = reversed_number * 10 + digit\n",
    "    \n",
    "    # Step 8: Remove the last digit from 'number' by performing integer division (//).\n",
    "    number //= 10\n",
    "\n",
    "# Step 9: After the loop ends, print the original number and the reversed number.\n",
    "print(f\"Original Number: {original_number}\")\n",
    "print(f\"Reversed Number: {reversed_number}\")\n"
   ]
  },
  {
   "cell_type": "markdown",
   "id": "3a367f34-166b-4c96-b4d8-a608fe44ad97",
   "metadata": {},
   "source": [
    "------------------------------------------------------------------------------------------------------------------------------------------------------"
   ]
  },
  {
   "cell_type": "markdown",
   "id": "2d186c5c-c777-47e2-8f2f-2dd45e95c54a",
   "metadata": {},
   "source": [
    "10.Create a dictionary to represent details of a student (name, roll number, register number, department, \n",
    "semester). Add new element total mark. Based on total mark find grade of student and add to \n",
    "dictionary. (total mark: 90>= A,82>=B,75>= C,60>= D ,50>=P). Delete roll number."
   ]
  },
  {
   "cell_type": "markdown",
   "id": "67ad1924-b74c-4b7a-be6c-3a9c080ac61c",
   "metadata": {},
   "source": [
    "Program:-"
   ]
  },
  {
   "cell_type": "code",
   "execution_count": 13,
   "id": "70059b91-f3b5-4af3-92e1-725c46ad470d",
   "metadata": {},
   "outputs": [
    {
     "name": "stdin",
     "output_type": "stream",
     "text": [
      "Enter student name:  nihal\n",
      "Enter roll number:  42\n",
      "Enter register number:  1245\n",
      "Enter department:  MCA\n",
      "Enter semester:  1\n",
      "Enter total mark:  94\n"
     ]
    },
    {
     "name": "stdout",
     "output_type": "stream",
     "text": [
      "{'name': 'nihal', 'register_number': '1245', 'department': 'MCA', 'semester': 1, 'total_mark': 94, 'grade': 'A'}\n"
     ]
    }
   ],
   "source": [
    "# Create a dictionary to store student details\n",
    "student = {\n",
    "    \"name\": input(\"Enter student name: \"),  # User enters the student's name\n",
    "    \"roll_number\": input(\"Enter roll number: \"),  # User enters the student's roll number\n",
    "    \"register_number\": input(\"Enter register number: \"),  # User enters the student's register number\n",
    "    \"department\": input(\"Enter department: \"),  # User enters the department the student belongs to\n",
    "    \"semester\": int(input(\"Enter semester: \"))  # User enters the semester (converted to integer)\n",
    "}\n",
    "\n",
    "# Add total mark to the dictionary\n",
    "total_mark = int(input(\"Enter total mark: \"))  # User enters the total marks (converted to integer)\n",
    "student[\"total_mark\"] = total_mark  # Add the total mark to the dictionary with the key \"total_mark\"\n",
    "\n",
    "# Determine grade based on the total mark\n",
    "# The grade is assigned according to the total mark, using a series of conditions\n",
    "if total_mark >= 90:\n",
    "    grade = \"A\"  # If total mark is greater than or equal to 90, assign grade \"A\"\n",
    "elif total_mark >= 82:\n",
    "    grade = \"B\"  # If total mark is between 82 and 89 (inclusive), assign grade \"B\"\n",
    "elif total_mark >= 75:\n",
    "    grade = \"C\"  # If total mark is between 75 and 81 (inclusive), assign grade \"C\"\n",
    "elif total_mark >= 60:\n",
    "    grade = \"D\"  # If total mark is between 60 and 74 (inclusive), assign grade \"D\"\n",
    "elif total_mark >= 50:\n",
    "    grade = \"P\"  # If total mark is between 50 and 59 (inclusive), assign grade \"P\"\n",
    "else:\n",
    "    grade = \"F\"  # If total mark is below 50, assign grade \"F\" (Fail)\n",
    "\n",
    "# Add grade to the dictionary\n",
    "student[\"grade\"] = grade  # Add the grade to the dictionary with the key \"grade\"\n",
    "\n",
    "# Delete the roll number from the dictionary as it's no longer needed\n",
    "del student[\"roll_number\"]  # Remove the key \"roll_number\" from the dictionary\n",
    "\n",
    "# Print the final dictionary containing student details, total mark, and grade\n",
    "print(student)  # Output the final student dictionary with all the added details\n"
   ]
  },
  {
   "cell_type": "markdown",
   "id": "096d8a84-7a16-4b74-ae42-3a86baa6b238",
   "metadata": {},
   "source": [
    "------------------------------------------------------------------------------------------------------------------------------------------------------"
   ]
  }
 ],
 "metadata": {
  "kernelspec": {
   "display_name": "Python 3 (ipykernel)",
   "language": "python",
   "name": "python3"
  },
  "language_info": {
   "codemirror_mode": {
    "name": "ipython",
    "version": 3
   },
   "file_extension": ".py",
   "mimetype": "text/x-python",
   "name": "python",
   "nbconvert_exporter": "python",
   "pygments_lexer": "ipython3",
   "version": "3.10.14"
  }
 },
 "nbformat": 4,
 "nbformat_minor": 5
}
