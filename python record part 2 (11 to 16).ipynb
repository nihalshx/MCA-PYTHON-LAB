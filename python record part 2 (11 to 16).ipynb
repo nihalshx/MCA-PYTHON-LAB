{
 "cells": [
  {
   "cell_type": "markdown",
   "id": "15113f01-6905-404b-94c0-d0be5705c503",
   "metadata": {},
   "source": [
    "1.Create a package graphics with modules rectangle, circle and sub-package 3D-graphics \n",
    "with modules cuboid and sphere. Include methods to find area and perimeter of respective \n",
    "figures in each module. Write programs that finds area and perimeter of figures by different \n",
    "importing statements. (Include selective import of modules and import * statements) "
   ]
  },
  {
   "cell_type": "markdown",
   "id": "3e0b7508-9462-4d62-a46d-7a8aaf93397b",
   "metadata": {},
   "source": [
    "program:-"
   ]
  },
  {
   "cell_type": "markdown",
   "id": "ea5e1092-5ca7-4023-9858-5f4c83bd8438",
   "metadata": {},
   "source": [
    "Directory Structure:-"
   ]
  },
  {
   "cell_type": "code",
   "execution_count": null,
   "id": "94931995-d9a1-4b57-8c10-04974e4c7c66",
   "metadata": {},
   "outputs": [],
   "source": [
    "graphics/\n",
    "    __init__.py\n",
    "    rectangle.py\n",
    "    circle.py\n",
    "    three_d_graphics/\n",
    "        __init__.py\n",
    "        cuboid.py\n",
    "        sphere.py\n",
    "main.py\n"
   ]
  },
  {
   "cell_type": "raw",
   "id": "f4d506bb-7172-441d-bb7e-e05c5937bc90",
   "metadata": {},
   "source": [
    "a.Create __init__.py files\n",
    "__init__.py files make a directory a package. These files can be left empty or contain initialization code."
   ]
  },
  {
   "cell_type": "markdown",
   "id": "51c80dbf-e212-482f-bef6-504ba2621f58",
   "metadata": {},
   "source": [
    "graphics/__init__.py"
   ]
  },
  {
   "cell_type": "code",
   "execution_count": 1,
   "id": "8a69dd9b-d2d7-432d-a4e5-9ef52848eac9",
   "metadata": {},
   "outputs": [],
   "source": [
    "# graphics package initialization\r\n"
   ]
  },
  {
   "cell_type": "markdown",
   "id": "d1bc3e3c-c1fc-46b2-a65a-b40eaea1d107",
   "metadata": {},
   "source": [
    "graphics/three_d_graphics/__init__.py"
   ]
  },
  {
   "cell_type": "code",
   "execution_count": 2,
   "id": "019cb1b2-3f7f-4882-92a9-c0540b43e70c",
   "metadata": {},
   "outputs": [],
   "source": [
    "# 3D graphics sub-package initialization\n"
   ]
  },
  {
   "cell_type": "markdown",
   "id": "03ef3d50-d0e4-418f-8ddc-c28ce38accab",
   "metadata": {},
   "source": [
    "b.Create Modules"
   ]
  },
  {
   "cell_type": "markdown",
   "id": "659490c3-0ca1-47c9-915f-4784a8ccf6b0",
   "metadata": {},
   "source": [
    "graphics/rectangle.py"
   ]
  },
  {
   "cell_type": "code",
   "execution_count": 3,
   "id": "6e4f80c9-9481-4b38-a98d-6d9a07aa95a4",
   "metadata": {},
   "outputs": [],
   "source": [
    "def area(length, breadth):\n",
    "    \"\"\"Calculate the area of a rectangle.\"\"\"\n",
    "    return length * breadth\n",
    "\n",
    "def perimeter(length, breadth):\n",
    "    \"\"\"Calculate the perimeter of a rectangle.\"\"\"\n",
    "    return 2 * (length + breadth)\n"
   ]
  },
  {
   "cell_type": "markdown",
   "id": "7ebd74e6-0909-4bfe-bdae-947880cbfc0a",
   "metadata": {},
   "source": [
    "graphics/circle.py"
   ]
  },
  {
   "cell_type": "code",
   "execution_count": 4,
   "id": "a781d7c0-7dda-4bb5-9044-f067c9e2913f",
   "metadata": {},
   "outputs": [],
   "source": [
    "import math\n",
    "\n",
    "def area(radius):\n",
    "    \"\"\"Calculate the area of a circle.\"\"\"\n",
    "    return math.pi * radius**2\n",
    "\n",
    "def perimeter(radius):\n",
    "    \"\"\"Calculate the perimeter (circumference) of a circle.\"\"\"\n",
    "    return 2 * math.pi * radius\n"
   ]
  },
  {
   "cell_type": "markdown",
   "id": "f0c4f650-df44-4c49-810f-abbb40030cc9",
   "metadata": {},
   "source": [
    "graphics/three_d_graphics/cuboid.py"
   ]
  },
  {
   "cell_type": "code",
   "execution_count": 5,
   "id": "13da18fe-54d1-48df-940e-bb63cba7a1ea",
   "metadata": {},
   "outputs": [],
   "source": [
    "def area(length, breadth, height):\n",
    "    \"\"\"Calculate the surface area of a cuboid.\"\"\"\n",
    "    return 2 * (length * breadth + breadth * height + height * length)\n",
    "\n",
    "def perimeter(length, breadth, height):\n",
    "    \"\"\"Calculate the perimeter of a cuboid (sum of all edges).\"\"\"\n",
    "    return 4 * (length + breadth + height)\n"
   ]
  },
  {
   "cell_type": "markdown",
   "id": "86c4b7d4-6592-462f-bf9a-0f03b4b4c062",
   "metadata": {},
   "source": [
    "graphics/three_d_graphics/sphere.py"
   ]
  },
  {
   "cell_type": "code",
   "execution_count": 6,
   "id": "83c61a17-7147-417e-be93-f1d5392ad3da",
   "metadata": {},
   "outputs": [],
   "source": [
    "import math\n",
    "\n",
    "def area(radius):\n",
    "    \"\"\"Calculate the surface area of a sphere.\"\"\"\n",
    "    return 4 * math.pi * radius**2\n",
    "\n",
    "def perimeter(radius):\n",
    "    \"\"\"Calculate the perimeter (circumference of a great circle) of a sphere.\"\"\"\n",
    "    return 2 * math.pi * radius\n"
   ]
  },
  {
   "cell_type": "markdown",
   "id": "ee9a59b5-23a6-4543-81d5-4094450fae0e",
   "metadata": {},
   "source": [
    "c.Main Program\n",
    "Create a main.py file to demonstrate importing and using the package."
   ]
  },
  {
   "cell_type": "markdown",
   "id": "1408e047-ad3f-4203-9045-037be4216ac2",
   "metadata": {},
   "source": [
    "main.py"
   ]
  },
  {
   "cell_type": "code",
   "execution_count": null,
   "id": "50dd0248-4fb1-4dca-9dd8-c47328ca4ded",
   "metadata": {},
   "outputs": [],
   "source": [
    "# Import specific functions from the rectangle module.\n",
    "# This allows us to directly use the `area` and `perimeter` functions from the rectangle module.\n",
    "from graphics.rectangle import area as rect_area, perimeter as rect_perimeter\n",
    "\n",
    "# Import specific functions from the circle module.\n",
    "# The aliasing (`as`) ensures the function names are clear and avoid conflicts with other imports.\n",
    "from graphics.circle import area as circ_area, perimeter as circ_perimeter\n",
    "\n",
    "# Import the entire cuboid module from the 3D graphics sub-package.\n",
    "# This allows us to use its functions with a prefix (`cuboid.area`, `cuboid.perimeter`).\n",
    "from graphics.three_d_graphics import cuboid\n",
    "\n",
    "# Import only the `area` function from the sphere module, and alias it to avoid confusion.\n",
    "# The circle and sphere modules have a similar function, so aliasing prevents name conflicts.\n",
    "from graphics.three_d_graphics.sphere import area as sphere_area\n",
    "\n",
    "# Step 1: Using the rectangle module\n",
    "length, breadth = 5, 3  # Define dimensions of the rectangle\n",
    "print(\"Rectangle:\")  # Print a heading for clarity\n",
    "# Calculate and print the area of the rectangle\n",
    "print(\"Area:\", rect_area(length, breadth))\n",
    "# Calculate and print the perimeter of the rectangle\n",
    "print(\"Perimeter:\", rect_perimeter(length, breadth))\n",
    "\n",
    "# Step 2: Using the circle module\n",
    "radius = 7  # Define the radius of the circle\n",
    "print(\"\\nCircle:\")  # Print a heading for clarity\n",
    "# Calculate and print the area of the circle\n",
    "print(\"Area:\", circ_area(radius))\n",
    "# Calculate and print the perimeter (circumference) of the circle\n",
    "print(\"Perimeter:\", circ_perimeter(radius))\n",
    "\n",
    "# Step 3: Using the cuboid module\n",
    "length, breadth, height = 4, 5, 6  # Define dimensions of the cuboid\n",
    "print(\"\\nCuboid:\")  # Print a heading for clarity\n",
    "# Calculate and print the surface area of the cuboid\n",
    "print(\"Surface Area:\", cuboid.area(length, breadth, height))\n",
    "# Calculate and print the perimeter of the cuboid (sum of all edges)\n",
    "print(\"Perimeter:\", cuboid.perimeter(length, breadth, height))\n",
    "\n",
    "# Step 4: Using the sphere module\n",
    "radius = 10  # Define the radius of the sphere\n",
    "print(\"\\nSphere:\")  # Print a heading for clarity\n",
    "# Calculate and print the surface area of the sphere\n",
    "print(\"Surface Area:\", sphere_area(radius))\n",
    "# Calculate and print the circumference of a great circle on the sphere\n",
    "# Note: This uses the `circ_perimeter` function imported earlier for the circle.\n",
    "print(\"Circumference (Great Circle):\", circ_perimeter(radius))\n"
   ]
  },
  {
   "cell_type": "markdown",
   "id": "1aacd64c-3173-4a4c-a06f-f7b626c0291b",
   "metadata": {},
   "source": [
    "Output Example:"
   ]
  },
  {
   "cell_type": "code",
   "execution_count": null,
   "id": "470f8a39-1bdb-4a9b-ada3-c53e2afd0907",
   "metadata": {},
   "outputs": [],
   "source": [
    "Rectangle:\n",
    "Area: 15\n",
    "Perimeter: 16\n",
    "\n",
    "Circle:\n",
    "Area: 153.93804002589985\n",
    "Perimeter: 43.982297150257104\n",
    "\n",
    "Cuboid:\n",
    "Surface Area: 148\n",
    "Perimeter: 60\n",
    "\n",
    "Sphere:\n",
    "Surface Area: 1256.6370614359173\n",
    "Circumference (Great Circle): 62.83185307179586\n"
   ]
  },
  {
   "cell_type": "markdown",
   "id": "4de8dbc7-0dfb-4380-b492-6aae7f55b064",
   "metadata": {},
   "source": [
    "-------------------------------------------------------------------------------------------------------------------------------------------------------"
   ]
  },
  {
   "cell_type": "markdown",
   "id": "33c3f1f9-82b4-4045-8e55-b24bbd77d227",
   "metadata": {},
   "source": [
    "2.Create Rectangle class with attributes length and breadth and methods to find area \n",
    "and perimeter. Compare two Rectangle objects by their area. "
   ]
  },
  {
   "cell_type": "markdown",
   "id": "916546a6-8f62-4e5c-b2a4-7e861e743bc8",
   "metadata": {},
   "source": [
    "program:-"
   ]
  },
  {
   "cell_type": "code",
   "execution_count": 8,
   "id": "8cda1cee-93d8-4cd0-972f-5ef9cf0611b0",
   "metadata": {},
   "outputs": [
    {
     "name": "stdout",
     "output_type": "stream",
     "text": [
      "Rectangle 1 area: 20\n",
      "Rectangle 2 area: 18\n",
      "Are the rectangles equal in area? False\n",
      "Is Rectangle 1 smaller in area than Rectangle 2? False\n",
      "Rectangle 1: Rectangle(length=4, breadth=5)\n",
      "Rectangle 2: Rectangle(length=3, breadth=6)\n"
     ]
    }
   ],
   "source": [
    "class Rectangle:\n",
    "    def __init__(self, length, breadth):\n",
    "        \"\"\"\n",
    "        Initialize a Rectangle object with its length and breadth.\n",
    "        :param length: The length of the rectangle.\n",
    "        :param breadth: The breadth of the rectangle.\n",
    "        \"\"\"\n",
    "        self.length = length  # Set the length attribute.\n",
    "        self.breadth = breadth  # Set the breadth attribute.\n",
    "\n",
    "    def area(self):\n",
    "        \"\"\"\n",
    "        Calculate and return the area of the rectangle.\n",
    "        :return: Area as length * breadth.\n",
    "        \"\"\"\n",
    "        return self.length * self.breadth\n",
    "\n",
    "    def perimeter(self):\n",
    "        \"\"\"\n",
    "        Calculate and return the perimeter of the rectangle.\n",
    "        Perimeter formula: 2 * (length + breadth)\n",
    "        :return: Perimeter of the rectangle.\n",
    "        \"\"\"\n",
    "        return 2 * (self.length + self.breadth)\n",
    "\n",
    "    def __lt__(self, other):\n",
    "        \"\"\"\n",
    "        Compare two Rectangle objects by their area.\n",
    "        This method defines the behavior of the '<' operator.\n",
    "        :param other: Another Rectangle object to compare with.\n",
    "        :return: True if this rectangle's area is less than the other, False otherwise.\n",
    "        \"\"\"\n",
    "        return self.area() < other.area()\n",
    "\n",
    "    def __eq__(self, other):\n",
    "        \"\"\"\n",
    "        Check if two Rectangle objects have the same area.\n",
    "        This method defines the behavior of the '==' operator.\n",
    "        :param other: Another Rectangle object to compare with.\n",
    "        :return: True if the areas are equal, False otherwise.\n",
    "        \"\"\"\n",
    "        return self.area() == other.area()\n",
    "\n",
    "    def __str__(self):\n",
    "        \"\"\"\n",
    "        Define a human-readable string representation of the Rectangle object.\n",
    "        :return: A string showing the dimensions of the rectangle.\n",
    "        \"\"\"\n",
    "        return f\"Rectangle(length={self.length}, breadth={self.breadth})\"\n",
    "\n",
    "# Example usage:\n",
    "\n",
    "# Step 1: Create the first Rectangle object with length 4 and breadth 5.\n",
    "rect1 = Rectangle(4, 5)\n",
    "\n",
    "# Step 2: Create the second Rectangle object with length 3 and breadth 6.\n",
    "rect2 = Rectangle(3, 6)\n",
    "\n",
    "# Step 3: Print the area of the first rectangle.\n",
    "print(\"Rectangle 1 area:\", rect1.area())\n",
    "\n",
    "# Step 4: Print the area of the second rectangle.\n",
    "print(\"Rectangle 2 area:\", rect2.area())\n",
    "\n",
    "# Step 5: Check if the areas of the two rectangles are equal using the '==' operator.\n",
    "print(\"Are the rectangles equal in area?\", rect1 == rect2)\n",
    "\n",
    "# Step 6: Check if the area of the first rectangle is smaller than that of the second rectangle using the '<' operator.\n",
    "print(\"Is Rectangle 1 smaller in area than Rectangle 2?\", rect1 < rect2)\n",
    "\n",
    "# Step 7: Print the string representations of both rectangles for verification.\n",
    "print(\"Rectangle 1:\", rect1)\n",
    "print(\"Rectangle 2:\", rect2)\n"
   ]
  },
  {
   "cell_type": "markdown",
   "id": "1c683a6a-4855-4abd-b79c-3ef027b49600",
   "metadata": {},
   "source": [
    "-------------------------------------------------------------------------------------------------------------------------------------------------------"
   ]
  },
  {
   "cell_type": "markdown",
   "id": "ee809fb1-8bd8-4c19-9c0b-a435c2e45cf4",
   "metadata": {},
   "source": [
    "3.Create a Bank account with members account number, name, type of account and \n",
    "balance. Write constructor and methods to deposit at the bank and withdraw an \n",
    "amount from the bank. "
   ]
  },
  {
   "cell_type": "markdown",
   "id": "f76a3e80-2231-4c41-b080-a11d17e4d989",
   "metadata": {},
   "source": [
    "program:-"
   ]
  },
  {
   "cell_type": "code",
   "execution_count": 9,
   "id": "6e0efde4-1e01-4737-ac83-7e6b3d818cd0",
   "metadata": {},
   "outputs": [
    {
     "name": "stdout",
     "output_type": "stream",
     "text": [
      "Deposited 200. New balance: 700\n",
      "Withdrew 100. New balance: 600\n",
      "600\n",
      "Account Number: 12345, Holder: nihal, Type: Savings, Balance: 600\n"
     ]
    }
   ],
   "source": [
    "# Define a class to represent a Bank Account\n",
    "class BankAccount:\n",
    "    # Constructor method to initialize the bank account with the given details\n",
    "    def __init__(self, account_number, account_holder, account_type, balance=0):\n",
    "        # Initializing the account attributes:\n",
    "        self.account_number = account_number   # Account number of the user\n",
    "        self.account_holder = account_holder   # Name of the account holder\n",
    "        self.account_type = account_type       # Type of the account (e.g., 'Savings', 'Checking')\n",
    "        self.balance = balance                 # Initial balance of the account (default is 0)\n",
    "\n",
    "    # Method to deposit money into the account\n",
    "    def deposit(self, amount):\n",
    "        # Check if the deposit amount is positive\n",
    "        if amount > 0:\n",
    "            self.balance += amount   # Increase the balance by the deposit amount\n",
    "            print(f\"Deposited {amount}. New balance: {self.balance}\")  # Print the deposit information\n",
    "        else:\n",
    "            print(\"Deposit amount must be positive.\")  # If the amount is zero or negative, print a warning\n",
    "\n",
    "    # Method to withdraw money from the account\n",
    "    def withdraw(self, amount):\n",
    "        # Check if the withdrawal amount is positive\n",
    "        if amount <= 0:\n",
    "            print(\"Withdrawal amount must be positive.\")  # Print a warning if the withdrawal amount is zero or negative\n",
    "        # Check if there are enough funds to withdraw\n",
    "        elif amount > self.balance:\n",
    "            print(\"Insufficient funds!\")  # Print a warning if there are not enough funds to withdraw\n",
    "        else:\n",
    "            self.balance -= amount  # Decrease the balance by the withdrawal amount\n",
    "            print(f\"Withdrew {amount}. New balance: {self.balance}\")  # Print the withdrawal information\n",
    "\n",
    "    # Method to get the current balance of the account\n",
    "    def get_balance(self):\n",
    "        return self.balance  # Return the current balance of the account\n",
    "\n",
    "    # Method to get the details of the account (account number, holder, type, balance)\n",
    "    def account_details(self):\n",
    "        # Return a formatted string with the account details\n",
    "        return f\"Account Number: {self.account_number}, Holder: {self.account_holder}, Type: {self.account_type}, Balance: {self.balance}\"\n",
    "\n",
    "# Example Usage:\n",
    "\n",
    "# Create a BankAccount object for nihal with account number 12345, account type 'Savings', and initial balance 500\n",
    "account1 = BankAccount(12345, \"nihal\", \"Savings\", 500)\n",
    "\n",
    "# Deposit 200 into account1\n",
    "account1.deposit(200)   # The balance becomes 700 (500 + 200)\n",
    "\n",
    "# Withdraw 100 from account1\n",
    "account1.withdraw(100)  # The balance becomes 600 (700 - 100)\n",
    "\n",
    "# Get the current balance of account1\n",
    "print(account1.get_balance())  # Output: 600\n",
    "\n",
    "# Print the details of account1\n",
    "print(account1.account_details())  # Output: Account Number: 12345, Holder: nihal, Type: Savings, Balance: 600\n"
   ]
  },
  {
   "cell_type": "markdown",
   "id": "e3086128-dc37-4085-9d95-b83d79a16008",
   "metadata": {},
   "source": [
    "-------------------------------------------------------------------------------------------------------------------------------------------------------"
   ]
  },
  {
   "cell_type": "markdown",
   "id": "14c74257-bb8a-42a8-a852-6bf99eca7047",
   "metadata": {},
   "source": [
    "4.Create a class Rectangle with private attributes length and width. Overload ‘<’ operator \n",
    "to compare the area of 2 rectangles. "
   ]
  },
  {
   "cell_type": "markdown",
   "id": "fbcf9e4f-e6e2-49d9-aa29-70c94503dfbb",
   "metadata": {},
   "source": [
    "program:-"
   ]
  },
  {
   "cell_type": "code",
   "execution_count": 10,
   "id": "2d8d279e-423b-4cbc-b521-5d1177539a89",
   "metadata": {},
   "outputs": [
    {
     "name": "stdout",
     "output_type": "stream",
     "text": [
      "Rectangle 1 has a larger or equal area than Rectangle 2.\n"
     ]
    }
   ],
   "source": [
    "# Define the Rectangle class\n",
    "class Rectangle:\n",
    "    # Constructor to initialize the rectangle with length and width\n",
    "    def __init__(self, length, width):\n",
    "        # '__length' is a private attribute representing the length of the rectangle\n",
    "        # '__width' is a private attribute representing the width of the rectangle\n",
    "        # These attributes are assigned values passed as arguments when creating a rectangle object\n",
    "        self.__length = length  # Private attribute for the rectangle's length\n",
    "        self.__width = width    # Private attribute for the rectangle's width\n",
    "\n",
    "    # Method to calculate the area of the rectangle\n",
    "    def area(self):\n",
    "        # The area of a rectangle is calculated by multiplying the length by the width.\n",
    "        # This method simply returns the product of the private attributes '__length' and '__width'\n",
    "        return self.__length * self.__width\n",
    "\n",
    "    # Overload the '<' (less than) operator to compare the areas of two rectangles\n",
    "    def __lt__(self, other):\n",
    "        # This method is called when the '<' operator is used between two Rectangle objects\n",
    "        # 'self' represents the current Rectangle object (the one on the left side of '<')\n",
    "        # 'other' represents the other Rectangle object (the one on the right side of '<')\n",
    "\n",
    "        # First, we check if 'other' is an instance of the Rectangle class\n",
    "        # This ensures that we are only comparing the area of two Rectangle objects\n",
    "        if isinstance(other, Rectangle):\n",
    "            # If 'other' is a Rectangle object, we compare their areas using the 'area' method\n",
    "            # The method 'self.area()' calculates the area of the current rectangle (self)\n",
    "            # The method 'other.area()' calculates the area of the other rectangle (other)\n",
    "            # We then compare the areas and return True if the area of the current rectangle (self) is smaller\n",
    "            return self.area() < other.area()\n",
    "        \n",
    "        # If 'other' is not a Rectangle, the comparison is not supported, and we return 'NotImplemented'\n",
    "        return NotImplemented\n",
    "\n",
    "# Example usage of the Rectangle class\n",
    "\n",
    "# Create two instances (objects) of the Rectangle class, each with different dimensions\n",
    "rect1 = Rectangle(4, 5)  # 'rect1' is a rectangle with a length of 4 and width of 5\n",
    "rect2 = Rectangle(6, 3)  # 'rect2' is a rectangle with a length of 6 and width of 3\n",
    "\n",
    "# Now we compare the areas of 'rect1' and 'rect2' using the overloaded '<' operator\n",
    "# The '<' operator calls the '__lt__' method behind the scenes\n",
    "\n",
    "if rect1 < rect2:\n",
    "    # This block of code will execute if the area of rect1 is smaller than the area of rect2\n",
    "    print(\"Rectangle 1 has a smaller area than Rectangle 2.\")\n",
    "else:\n",
    "    # This block of code will execute if the area of rect1 is greater than or equal to the area of rect2\n",
    "    print(\"Rectangle 1 has a larger or equal area than Rectangle 2.\")\n"
   ]
  },
  {
   "cell_type": "markdown",
   "id": "efd45fde-cbf9-46df-90e6-ec46007f6532",
   "metadata": {},
   "source": [
    "-------------------------------------------------------------------------------------------------------------------------------------------------------"
   ]
  },
  {
   "cell_type": "markdown",
   "id": "4815f58a-f204-4527-8731-5c52e5c5be46",
   "metadata": {},
   "source": [
    "5.Create a class Time with private attributes hour, minute and second. Overload ‘+’ operator to find sum of 2 time. "
   ]
  },
  {
   "cell_type": "markdown",
   "id": "70ccea70-dd75-43cf-bc73-50be6bda9861",
   "metadata": {},
   "source": [
    "program:-"
   ]
  },
  {
   "cell_type": "code",
   "execution_count": 11,
   "id": "6cad5af4-a6fd-445f-bfc1-be41a4db8365",
   "metadata": {},
   "outputs": [
    {
     "name": "stdout",
     "output_type": "stream",
     "text": [
      "Time 1: 2 hour(s), 30 minute(s), 45 second(s)\n",
      "Time 2: 3 hour(s), 45 minute(s), 20 second(s)\n",
      "Sum of Time 1 and Time 2: 6 hour(s), 16 minute(s), 5 second(s)\n"
     ]
    }
   ],
   "source": [
    "class Time:\n",
    "    # Constructor to initialize the Time object with hour, minute, and second\n",
    "    def __init__(self, hour=0, minute=0, second=0):\n",
    "        # The parameters 'hour', 'minute', and 'second' represent the time values.\n",
    "        # The default values for hour, minute, and second are set to 0.\n",
    "        # These default values are used if no values are provided when the object is created.\n",
    "        \n",
    "        # Private attributes (prefixed with '__') to store hour, minute, and second\n",
    "        # These attributes are private, meaning they are not directly accessible from outside the class.\n",
    "        self.__hour = hour\n",
    "        self.__minute = minute\n",
    "        self.__second = second\n",
    "\n",
    "    # Getter method for accessing the private 'hour' attribute\n",
    "    def get_hour(self):\n",
    "        # This method returns the value of the hour.\n",
    "        return self.__hour\n",
    "\n",
    "    # Getter method for accessing the private 'minute' attribute\n",
    "    def get_minute(self):\n",
    "        # This method returns the value of the minute.\n",
    "        return self.__minute\n",
    "\n",
    "    # Getter method for accessing the private 'second' attribute\n",
    "    def get_second(self):\n",
    "        # This method returns the value of the second.\n",
    "        return self.__second\n",
    "\n",
    "    # Method to display the time in a readable format\n",
    "    def display(self):\n",
    "        # This method returns a string that represents the time in the format: \n",
    "        # \"X hour(s), Y minute(s), Z second(s)\"\n",
    "        return f\"{self.__hour} hour(s), {self.__minute} minute(s), {self.__second} second(s)\"\n",
    "\n",
    "    # Overloading the '+' operator to add two Time objects\n",
    "    def __add__(self, other):\n",
    "        # This method is called when you use the '+' operator to add two Time objects together.\n",
    "\n",
    "        # First, we convert both Time objects into total seconds.\n",
    "        # We calculate the total seconds for the first Time object:\n",
    "        total_seconds_self = self.__hour * 3600 + self.__minute * 60 + self.__second\n",
    "        # We calculate the total seconds for the second Time object by accessing its attributes using the getter methods.\n",
    "        total_seconds_other = other.get_hour() * 3600 + other.get_minute() * 60 + other.get_second()\n",
    "\n",
    "        # Next, we add the total seconds of both Time objects.\n",
    "        total_seconds = total_seconds_self + total_seconds_other\n",
    "\n",
    "        # Now, we need to convert the total seconds back into hours, minutes, and seconds.\n",
    "        hour = total_seconds // 3600  # Integer division by 3600 to get the total hours.\n",
    "        minute = (total_seconds % 3600) // 60  # After removing full hours, divide the remainder by 60 to get minutes.\n",
    "        second = total_seconds % 60  # After removing full minutes, the remainder is the number of seconds.\n",
    "\n",
    "        # Finally, we return a new Time object with the calculated hours, minutes, and seconds.\n",
    "        return Time(hour, minute, second)\n",
    "\n",
    "# Testing the class and operator overloading\n",
    "time1 = Time(2, 30, 45)  # Create a Time object with 2 hours, 30 minutes, and 45 seconds.\n",
    "time2 = Time(3, 45, 20)  # Create another Time object with 3 hours, 45 minutes, and 20 seconds.\n",
    "\n",
    "# Add the two Time objects using the overloaded '+' operator. This will call the __add__ method.\n",
    "time_sum = time1 + time2\n",
    "\n",
    "# Display the original times and the result of adding them together.\n",
    "# The 'display' method is used to print the time in a readable format.\n",
    "print(f\"Time 1: {time1.display()}\")  # Display time1 (2 hours, 30 minutes, 45 seconds).\n",
    "print(f\"Time 2: {time2.display()}\")  # Display time2 (3 hours, 45 minutes, 20 seconds).\n",
    "print(f\"Sum of Time 1 and Time 2: {time_sum.display()}\")  # Display the sum of time1 and time2.\n"
   ]
  },
  {
   "cell_type": "markdown",
   "id": "46def12d-690a-4ac8-9e4f-bd46955eec69",
   "metadata": {},
   "source": [
    "-------------------------------------------------------------------------------------------------------------------------------------------------------"
   ]
  },
  {
   "cell_type": "markdown",
   "id": "e4089f4a-7c95-4861-a655-6c1ec899ea39",
   "metadata": {},
   "source": [
    "6.Create a class Publisher (name). Derive class Book from Publisher with attributes title \n",
    "and author. Derive class Python from Book with attributes price and no_of_pages. \n",
    "Write a program that displays information about a Python book. Use base class \n",
    "constructor invocation and method overriding. "
   ]
  },
  {
   "cell_type": "markdown",
   "id": "8ab466d1-a6d1-4536-b351-32fd45e2b52a",
   "metadata": {},
   "source": [
    "program:-"
   ]
  },
  {
   "cell_type": "code",
   "execution_count": 13,
   "id": "70a4238e-3a3c-40e4-aa59-9405446c5eb1",
   "metadata": {},
   "outputs": [
    {
     "name": "stdout",
     "output_type": "stream",
     "text": [
      "Publisher: nihal's book\n",
      "Title: Learning Python, Author: nihal\n",
      "Price: rs:45.99\n",
      "Number of Pages: 1500\n"
     ]
    }
   ],
   "source": [
    "# Base class Publisher\n",
    "class Publisher:\n",
    "    # Constructor to initialize the publisher's name\n",
    "    def __init__(self, name):\n",
    "        self.name = name  # The name of the publisher is set here\n",
    "\n",
    "    # Method to display the publisher's name\n",
    "    def display_publisher(self):\n",
    "        return f\"Publisher: {self.name}\"  # Returns the name of the publisher in a formatted string\n",
    "\n",
    "# Derived class Book from Publisher\n",
    "class Book(Publisher):\n",
    "    # Constructor to initialize title, author, and also the publisher using the parent class constructor\n",
    "    def __init__(self, name, title, author):\n",
    "        super().__init__(name)  # Call the constructor of Publisher to initialize the publisher's name\n",
    "        self.title = title  # Set the title of the book\n",
    "        self.author = author  # Set the author of the book\n",
    "\n",
    "    # Method to display book details (title and author)\n",
    "    def display_book(self):\n",
    "        return f\"Title: {self.title}, Author: {self.author}\"  # Returns the title and author in a formatted string\n",
    "\n",
    "# Derived class Python from Book\n",
    "class Python(Book):\n",
    "    # Constructor to initialize price and number of pages, along with title, author, and publisher\n",
    "    def __init__(self, name, title, author, price, no_of_pages):\n",
    "        super().__init__(name, title, author)  # Call the constructor of Book to initialize title, author, and publisher\n",
    "        self.price = price  # Set the price of the Python book\n",
    "        self.no_of_pages = no_of_pages  # Set the number of pages in the Python book\n",
    "\n",
    "    # Method to display all information about the Python book (publisher, title, author, price, pages)\n",
    "    def display_python(self):\n",
    "        # Calling the methods of the parent classes using super() to get publisher and book information\n",
    "        return f\"{super().display_publisher()}\\n{super().display_book()}\\nPrice: rs:{self.price}\\nNumber of Pages: {self.no_of_pages}\"\n",
    "\n",
    "# Create an instance (object) of the Python class\n",
    "python_book = Python(\"nihal's book\", \"Learning Python\", \"nihal\", 45.99, 1500)\n",
    "\n",
    "# Displaying all information about the Python book by calling the display_python method\n",
    "print(python_book.display_python())\n"
   ]
  },
  {
   "cell_type": "markdown",
   "id": "2715c200-157a-413f-a6a2-a3a807cb6c8b",
   "metadata": {},
   "source": [
    "-------------------------------------------------------------------------------------------------------------------------------------------------------"
   ]
  },
  {
   "cell_type": "code",
   "execution_count": null,
   "id": "7c3c9575-20bd-4f7c-a686-ce90f4dd93c7",
   "metadata": {},
   "outputs": [],
   "source": []
  }
 ],
 "metadata": {
  "kernelspec": {
   "display_name": "Python 3 (ipykernel)",
   "language": "python",
   "name": "python3"
  },
  "language_info": {
   "codemirror_mode": {
    "name": "ipython",
    "version": 3
   },
   "file_extension": ".py",
   "mimetype": "text/x-python",
   "name": "python",
   "nbconvert_exporter": "python",
   "pygments_lexer": "ipython3",
   "version": "3.10.14"
  }
 },
 "nbformat": 4,
 "nbformat_minor": 5
}
